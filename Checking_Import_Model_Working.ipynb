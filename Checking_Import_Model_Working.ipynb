{
 "cells": [
  {
   "cell_type": "code",
   "execution_count": 3,
   "id": "299e4143-7e06-4dd2-9ae0-938c998de8fc",
   "metadata": {},
   "outputs": [],
   "source": [
    "import joblib\n",
    "model = joblib.load('xgb_model.pkl')\n",
    "X_test = joblib.load('X_test.pkl')\n",
    "y_test = joblib.load('y_test.pkl')"
   ]
  },
  {
   "cell_type": "code",
   "execution_count": 9,
   "id": "78512fae-a691-47fb-8259-3fba5fcecf85",
   "metadata": {},
   "outputs": [],
   "source": [
    "y_pred = model.predict(X_test)"
   ]
  },
  {
   "cell_type": "code",
   "execution_count": 13,
   "id": "33a57658-4ee8-40ad-b40a-414957645672",
   "metadata": {},
   "outputs": [
    {
     "name": "stdout",
     "output_type": "stream",
     "text": [
      "Classification Report:               precision    recall  f1-score   support\n",
      "\n",
      "           0       1.00      1.00      1.00    159819\n",
      "           1       1.00      1.00      1.00     76517\n",
      "           2       0.84      0.90      0.87       911\n",
      "           3       1.00      1.00      1.00         7\n",
      "           4       0.74      0.61      0.67       413\n",
      "\n",
      "   micro avg       1.00      1.00      1.00    237667\n",
      "   macro avg       0.92      0.90      0.91    237667\n",
      "weighted avg       1.00      1.00      1.00    237667\n",
      " samples avg       1.00      1.00      1.00    237667\n",
      "\n"
     ]
    }
   ],
   "source": [
    "from sklearn.metrics import classification_report\n",
    "print(f\"Classification Report: {classification_report(y_test, y_pred, zero_division = 1)}\")"
   ]
  },
  {
   "cell_type": "code",
   "execution_count": null,
   "id": "f8e7899e-f168-4728-85e3-c09c1618e2c0",
   "metadata": {},
   "outputs": [],
   "source": []
  }
 ],
 "metadata": {
  "kernelspec": {
   "display_name": "Python [conda env:base] *",
   "language": "python",
   "name": "conda-base-py"
  },
  "language_info": {
   "codemirror_mode": {
    "name": "ipython",
    "version": 3
   },
   "file_extension": ".py",
   "mimetype": "text/x-python",
   "name": "python",
   "nbconvert_exporter": "python",
   "pygments_lexer": "ipython3",
   "version": "3.12.3"
  }
 },
 "nbformat": 4,
 "nbformat_minor": 5
}
