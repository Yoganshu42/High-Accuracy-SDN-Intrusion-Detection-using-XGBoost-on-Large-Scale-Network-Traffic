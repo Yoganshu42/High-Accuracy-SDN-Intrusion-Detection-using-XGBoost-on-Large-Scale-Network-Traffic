{
 "cells": [
  {
   "cell_type": "code",
   "execution_count": null,
   "id": "a8e07011-46e7-4c6a-a54a-65681cbd8e6f",
   "metadata": {},
   "outputs": [],
   "source": [
    "import pandas as pd\n",
    "df = pd.read_csv(r\"Cleaned_SDN_Intrusion.csv\")\n",
    "df.head()"
   ]
  },
  {
   "cell_type": "code",
   "execution_count": null,
   "id": "abfa2244-1e4c-4892-94fc-7bebf182f1c9",
   "metadata": {},
   "outputs": [],
   "source": [
    "len(df)"
   ]
  },
  {
   "cell_type": "code",
   "execution_count": null,
   "id": "e4a25b3a-e5e4-43fe-a66d-6b748b514e62",
   "metadata": {},
   "outputs": [],
   "source": [
    "df.shape"
   ]
  },
  {
   "cell_type": "code",
   "execution_count": null,
   "id": "b2494bc0-6f46-4a3d-969d-291993009b2a",
   "metadata": {},
   "outputs": [],
   "source": [
    "# Rechecking for null or missing values\n",
    "missing_values = df.isnull().sum()\n",
    "print(\"missing values:\\n\", missing_values[missing_values>0])"
   ]
  },
  {
   "cell_type": "code",
   "execution_count": null,
   "id": "114a79e8-f212-4aed-83e9-42bb04b29e36",
   "metadata": {},
   "outputs": [],
   "source": [
    "# Rechecking for duplicate rows\n",
    "duplicate_rows = df.duplicated().sum()\n",
    "print(f\"Duplicate Rows: {duplicate_rows}\")"
   ]
  },
  {
   "cell_type": "code",
   "execution_count": null,
   "id": "bceb833f-de73-4801-b713-b0b63bf2bff8",
   "metadata": {},
   "outputs": [],
   "source": [
    "df.columns = df.columns.str.strip().str.lower()"
   ]
  },
  {
   "cell_type": "code",
   "execution_count": null,
   "id": "0cb516fe-ab84-4d98-9a3b-9072757f3b12",
   "metadata": {},
   "outputs": [],
   "source": [
    "X = df.iloc[:,:-5]\n",
    "y = df.iloc[:,-5:]"
   ]
  },
  {
   "cell_type": "code",
   "execution_count": null,
   "id": "a13c1cde-f211-4d29-b654-55bff9ffb130",
   "metadata": {},
   "outputs": [],
   "source": [
    "df.columns.tolist()"
   ]
  },
  {
   "cell_type": "code",
   "execution_count": null,
   "id": "a2efce53-abab-4d5b-a6a8-f8d0fe3a2248",
   "metadata": {},
   "outputs": [],
   "source": [
    "from sklearn.model_selection import train_test_split"
   ]
  },
  {
   "cell_type": "code",
   "execution_count": null,
   "id": "f00ecb81-aa17-4bda-9b0d-e9ffe4975f0e",
   "metadata": {},
   "outputs": [],
   "source": [
    "X_train, X_test, y_train, y_test = train_test_split(X, y, test_size = 0.2, random_state = 42)"
   ]
  },
  {
   "cell_type": "code",
   "execution_count": null,
   "id": "e8188dc1-c105-48f5-98f7-8d04ad56ecf4",
   "metadata": {},
   "outputs": [],
   "source": [
    "print(X_train.shape)\n",
    "print(X_test.shape)\n",
    "print(y_train.shape)\n",
    "print(y_test.shape)"
   ]
  },
  {
   "cell_type": "code",
   "execution_count": null,
   "id": "e9bb42a8-bccd-4aea-9846-2089b02cb250",
   "metadata": {},
   "outputs": [],
   "source": [
    "from sklearn.linear_model import LinearRegression\n",
    "from sklearn.ensemble import RandomForestClassifier\n",
    "from sklearn.tree import DecisionTreeClassifier\n",
    "from sklearn.model_selection import cross_val_score"
   ]
  },
  {
   "cell_type": "code",
   "execution_count": null,
   "id": "debca5d8-bb16-4c28-aaaa-a803791ed6ce",
   "metadata": {},
   "outputs": [],
   "source": [
    "# Adjusting values for RandomForestClassifier\n",
    "import numpy as np\n",
    "from sklearn.impute import SimpleImputer"
   ]
  },
  {
   "cell_type": "code",
   "execution_count": null,
   "id": "cfa26c60-8f8b-4227-abb9-bca9488b5eef",
   "metadata": {},
   "outputs": [],
   "source": [
    "X_train.replace([np.inf, -np.inf], np.nan, inplace = True)\n",
    "X_test.replace([np.inf, -np.inf], np.nan, inplace = True)"
   ]
  },
  {
   "cell_type": "code",
   "execution_count": null,
   "id": "55907e32-aca9-47e0-bddf-b837a9d3f96d",
   "metadata": {},
   "outputs": [],
   "source": [
    "imputer = SimpleImputer(strategy = 'mean')\n",
    "X_train = imputer.fit_transform(X_train)\n",
    "X_test = imputer.fit_transform(X_test)"
   ]
  },
  {
   "cell_type": "code",
   "execution_count": null,
   "id": "d423dc0c-ecd2-4182-b6e9-762fdb61c455",
   "metadata": {},
   "outputs": [],
   "source": [
    "model1 = RandomForestClassifier(n_estimators = 50, max_depth = 10, n_jobs = -1)\n",
    "model1.fit(X_train,y_train)"
   ]
  },
  {
   "cell_type": "code",
   "execution_count": null,
   "id": "987ba3b4-4b28-45a3-bc85-48b92a886273",
   "metadata": {},
   "outputs": [],
   "source": [
    "train_scores = cross_val_score(model1, X_train,y_train, cv = 5)\n",
    "test_scores = cross_val_score(model1, X_test,y_test, cv = 5)\n",
    "\n",
    "print(f\"Training Dataset Score: {train_scores}\")\n",
    "print(f\"Testing Dataset Score: {test_scores}\")"
   ]
  },
  {
   "cell_type": "code",
   "execution_count": null,
   "id": "7c63af02-0297-425c-9ef4-4fdaa2a4a39a",
   "metadata": {},
   "outputs": [],
   "source": [
    "model2 = LinearRegression()\n",
    "model2.fit(X_train,y_train)"
   ]
  },
  {
   "cell_type": "code",
   "execution_count": null,
   "id": "9a34da72-ca09-4c17-b0ef-9610556a0ce1",
   "metadata": {},
   "outputs": [],
   "source": [
    "train_scores = cross_val_score(model2, X_train,y_train, cv = 5)\n",
    "test_scores = cross_val_score(model2, X_test,y_test, cv = 5)\n",
    "\n",
    "print(f\"Training Dataset Score: {train_scores}\")\n",
    "print(f\"Testing Dataset Score: {test_scores}\")"
   ]
  },
  {
   "cell_type": "code",
   "execution_count": null,
   "id": "9ebc1631-df6f-4052-b92d-aaaa5b51fc59",
   "metadata": {},
   "outputs": [],
   "source": [
    "from xgboost import XGBClassifier\n",
    "from sklearn.multiclass import OneVsRestClassifier"
   ]
  },
  {
   "cell_type": "code",
   "execution_count": null,
   "id": "689dc67b-5aea-4467-9a46-17e18239704d",
   "metadata": {},
   "outputs": [],
   "source": [
    "model3 = OneVsRestClassifier(XGBClassifier(\n",
    "    n_estimators = 100,\n",
    "    max_depth = 10,\n",
    "    n_jobs = -1,))"
   ]
  },
  {
   "cell_type": "code",
   "execution_count": null,
   "id": "876bdd64-011c-47ac-8890-0e91e22d3f92",
   "metadata": {},
   "outputs": [],
   "source": [
    "model3.fit(X_train,y_train)"
   ]
  },
  {
   "cell_type": "code",
   "execution_count": null,
   "id": "6dfd8cae-2a83-4c4c-b15e-25b33e4dba92",
   "metadata": {},
   "outputs": [],
   "source": [
    "train_scores = cross_val_score(model3, X_train,y_train, cv = 5)\n",
    "test_scores = cross_val_score(model3, X_test,y_test, cv = 5)\n",
    "\n",
    "print(f\"Training Dataset Score: {train_scores}\")\n",
    "print(f\"Testing Dataset Score: {test_scores}\")"
   ]
  },
  {
   "cell_type": "code",
   "execution_count": null,
   "id": "87a5f45e-0b25-4efb-94ce-9af33c40be2c",
   "metadata": {},
   "outputs": [],
   "source": [
    "model4 = DecisionTreeClassifier(max_depth = 10)\n",
    "model4.fit(X_train,y_train)"
   ]
  },
  {
   "cell_type": "code",
   "execution_count": null,
   "id": "0dc15e00-1b70-4dbd-ae92-35414a7f5eb9",
   "metadata": {},
   "outputs": [],
   "source": [
    "train_scores = cross_val_score(model4, X_train,y_train, cv = 5)\n",
    "test_scores = cross_val_score(model4, X_test,y_test, cv = 5)\n",
    "\n",
    "print(f\"Training Dataset Score: {train_scores}\")\n",
    "print(f\"Testing Dataset Score: {test_scores}\")"
   ]
  },
  {
   "cell_type": "code",
   "execution_count": null,
   "id": "729956e9-5143-4a56-919f-0c3c9ebd9cde",
   "metadata": {},
   "outputs": [],
   "source": [
    "import joblib \n",
    "\n",
    "joblib.dump(model3, 'xgb_model.pkl')\n",
    "joblib.dump(X_test, 'X_test.pkl')\n",
    "joblib.dump(y_test, 'y_test.pkl')"
   ]
  },
  {
   "cell_type": "code",
   "execution_count": null,
   "id": "5cbb634f-6bcd-4c28-ae54-ca3b63f53504",
   "metadata": {},
   "outputs": [],
   "source": []
  }
 ],
 "metadata": {
  "kernelspec": {
   "display_name": "Python [conda env:base] *",
   "language": "python",
   "name": "conda-base-py"
  },
  "language_info": {
   "codemirror_mode": {
    "name": "ipython",
    "version": 3
   },
   "file_extension": ".py",
   "mimetype": "text/x-python",
   "name": "python",
   "nbconvert_exporter": "python",
   "pygments_lexer": "ipython3",
   "version": "3.12.3"
  }
 },
 "nbformat": 4,
 "nbformat_minor": 5
}
