{
 "cells": [
  {
   "cell_type": "code",
   "execution_count": null,
   "id": "28b540ad-669b-413c-acd3-64010acce7e8",
   "metadata": {},
   "outputs": [],
   "source": [
    "import pandas as pd\n",
    "\n",
    "df = pd.read_csv(r\"SDN_Intrusion.csv\")\n",
    "df.head()"
   ]
  },
  {
   "cell_type": "code",
   "execution_count": null,
   "id": "33d1a435-5330-423f-9caf-03c1e5c2787c",
   "metadata": {},
   "outputs": [],
   "source": [
    "len(df)"
   ]
  },
  {
   "cell_type": "code",
   "execution_count": null,
   "id": "d33c3f74-23f8-4147-9790-85387ec17dfe",
   "metadata": {},
   "outputs": [],
   "source": [
    "df.shape"
   ]
  },
  {
   "cell_type": "code",
   "execution_count": null,
   "id": "dd1f8628-aff6-4e89-b629-3068dbeddc55",
   "metadata": {},
   "outputs": [],
   "source": [
    "df.columns"
   ]
  },
  {
   "cell_type": "code",
   "execution_count": null,
   "id": "d72bf156-a2e7-4e7e-a00b-77eca6d65998",
   "metadata": {},
   "outputs": [],
   "source": [
    "missing_values = df.isnull().sum()\n",
    "print(\"missing values:\\n\", missing_values[missing_values>0])"
   ]
  },
  {
   "cell_type": "code",
   "execution_count": null,
   "id": "7b9d55b9-060a-4958-ad33-6f1c6ab30046",
   "metadata": {},
   "outputs": [],
   "source": [
    "duplicate_count = df.duplicated().sum()\n",
    "print(f\"Number of duplicated rows: {duplicate_count}\")"
   ]
  },
  {
   "cell_type": "code",
   "execution_count": null,
   "id": "8afb5b78-bd48-4624-9d22-6cacddc0834d",
   "metadata": {},
   "outputs": [],
   "source": [
    "df.dtypes"
   ]
  },
  {
   "cell_type": "code",
   "execution_count": null,
   "id": "e9959b43-6752-49c0-9af7-78eec41cf785",
   "metadata": {},
   "outputs": [],
   "source": [
    "missing_columns = df.columns[df.isnull().sum()>0]\n",
    "missing_columns"
   ]
  },
  {
   "cell_type": "code",
   "execution_count": null,
   "id": "7d00e0bc-6e60-4402-bb66-63ef3e5ff5a4",
   "metadata": {},
   "outputs": [],
   "source": [
    "print(f\"Columns with missing values:{df[missing_columns].isnull().sum()}\")"
   ]
  },
  {
   "cell_type": "code",
   "execution_count": null,
   "id": "f3887a0a-ad7d-4bc6-a904-f8a3cdf48721",
   "metadata": {},
   "outputs": [],
   "source": [
    "# Dividing the numerical and categorical columns for the data cleaning and wrangling\n",
    "numerical_cols = df.select_dtypes(include = ['int64','float64']).columns\n",
    "categorical_cols = df.select_dtypes(include = ['object']).columns\n",
    "\n",
    "print(f\"Numerical Columns: {list[numerical_cols]}\\n\")\n",
    "print(f\"Categorical Columns: {list[categorical_cols]}\")"
   ]
  },
  {
   "cell_type": "code",
   "execution_count": null,
   "id": "2659a3fa-b16b-4764-b6da-ed1aad2ae01c",
   "metadata": {},
   "outputs": [],
   "source": [
    "for col in numerical_cols:\n",
    "    df[col] = df[col].fillna(df[col].mean())\n",
    "\n",
    "print(f\"Remaining Missing Values: {df.isnull().sum()}\")"
   ]
  },
  {
   "cell_type": "code",
   "execution_count": null,
   "id": "d9b8570c-18f3-42e6-9b73-60b157d53a7e",
   "metadata": {},
   "outputs": [],
   "source": [
    "missing_values = df.isnull().sum()\n",
    "print(\"missing values:\\n\", missing_values[missing_values>0])"
   ]
  },
  {
   "cell_type": "code",
   "execution_count": null,
   "id": "90c980da-3ecf-4eec-a710-bfb460e7a11b",
   "metadata": {},
   "outputs": [],
   "source": [
    "df.head()"
   ]
  },
  {
   "cell_type": "code",
   "execution_count": null,
   "id": "15f587cb-f96f-4a36-85f1-970976bd0a50",
   "metadata": {},
   "outputs": [],
   "source": [
    "from sklearn.preprocessing import OneHotEncoder     #Encoding the categorical columns/class\n",
    "encoder = OneHotEncoder(sparse_output = False)"
   ]
  },
  {
   "cell_type": "code",
   "execution_count": null,
   "id": "a1b11821-d832-40a2-8fab-39cb67b014cb",
   "metadata": {},
   "outputs": [],
   "source": [
    "encoded_class = encoder.fit_transform(df[['Class']])"
   ]
  },
  {
   "cell_type": "code",
   "execution_count": null,
   "id": "73e15106-0e68-49a5-966c-c6dbf71ce171",
   "metadata": {},
   "outputs": [],
   "source": [
    "encoded_class"
   ]
  },
  {
   "cell_type": "code",
   "execution_count": null,
   "id": "a1e253c2-1eb4-4397-8161-944e4d32a725",
   "metadata": {},
   "outputs": [],
   "source": [
    "class_names = encoder.categories_[0]\n",
    "encoded_df = pd.DataFrame(encoded_class, columns = class_names)"
   ]
  },
  {
   "cell_type": "code",
   "execution_count": null,
   "id": "17470eb6-3550-49fc-a7d5-b8e162930ea8",
   "metadata": {},
   "outputs": [],
   "source": [
    "df = pd.concat([df,encoded_df], axis = 1)\n",
    "df"
   ]
  },
  {
   "cell_type": "code",
   "execution_count": null,
   "id": "6ef9e457-a17a-481a-8ba1-7c8826cfd609",
   "metadata": {},
   "outputs": [],
   "source": [
    "df.columns= df.columns.str.strip()"
   ]
  },
  {
   "cell_type": "code",
   "execution_count": null,
   "id": "d4b3e20e-4e6e-4d57-ace3-1ef7f3aecc0e",
   "metadata": {},
   "outputs": [],
   "source": [
    "print(df.columns.tolist())"
   ]
  },
  {
   "cell_type": "code",
   "execution_count": null,
   "id": "a52ccab6-af12-4da9-8e3f-ea38acf7e4b5",
   "metadata": {},
   "outputs": [],
   "source": [
    "print(f\"Current columns in DataFrame:\\n {df.columns}\")"
   ]
  },
  {
   "cell_type": "code",
   "execution_count": null,
   "id": "335f3b61-dd6d-44e0-8aa8-f2fc0afd7cf7",
   "metadata": {},
   "outputs": [],
   "source": [
    "duplicate_rows = df.duplicated().sum()\n",
    "print(f\"Duplicate Rows: {duplicate_rows}\")"
   ]
  },
  {
   "cell_type": "code",
   "execution_count": null,
   "id": "e88809cd-1ea5-4d63-9d7b-723d555f40c1",
   "metadata": {},
   "outputs": [],
   "source": [
    "df.columns.tolist()"
   ]
  },
  {
   "cell_type": "code",
   "execution_count": null,
   "id": "63931140-459b-442d-a49f-00867a71e22d",
   "metadata": {},
   "outputs": [],
   "source": [
    "duplicate_columns = df.columns[df.columns.duplicated()]\n",
    "duplicate_columns"
   ]
  },
  {
   "cell_type": "code",
   "execution_count": null,
   "id": "fae2c885-4be3-40bb-a280-dd7e379002c8",
   "metadata": {},
   "outputs": [],
   "source": [
    "df.shape"
   ]
  },
  {
   "cell_type": "code",
   "execution_count": null,
   "id": "2ac05967-28f4-4143-a71c-bf692ea6969f",
   "metadata": {},
   "outputs": [],
   "source": [
    "print(\"Final Columns in DataFrame:\\n\", df.columns.tolist())"
   ]
  },
  {
   "cell_type": "code",
   "execution_count": null,
   "id": "56483ba9-f524-441c-94c0-4094c5eb2311",
   "metadata": {},
   "outputs": [],
   "source": [
    "df.head()"
   ]
  },
  {
   "cell_type": "code",
   "execution_count": null,
   "id": "d0349305-56c4-4d34-9e07-fa3071a2b098",
   "metadata": {},
   "outputs": [],
   "source": [
    "df.to_csv(\"Cleaned_SDN_Intrusion.csv\", index = False)"
   ]
  },
  {
   "cell_type": "code",
   "execution_count": null,
   "id": "f8acb035-a26f-4b19-8e6f-e587c2d767ee",
   "metadata": {},
   "outputs": [],
   "source": []
  }
 ],
 "metadata": {
  "kernelspec": {
   "display_name": "Python [conda env:base] *",
   "language": "python",
   "name": "conda-base-py"
  },
  "language_info": {
   "codemirror_mode": {
    "name": "ipython",
    "version": 3
   },
   "file_extension": ".py",
   "mimetype": "text/x-python",
   "name": "python",
   "nbconvert_exporter": "python",
   "pygments_lexer": "ipython3",
   "version": "3.12.3"
  }
 },
 "nbformat": 4,
 "nbformat_minor": 5
}
